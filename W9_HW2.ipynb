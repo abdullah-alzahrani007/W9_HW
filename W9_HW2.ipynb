{
 "cells": [
  {
   "cell_type": "code",
   "execution_count": 124,
   "id": "c148d8e3-1f07-4985-908c-061fdb0f9ff4",
   "metadata": {},
   "outputs": [],
   "source": [
    "import hashlib \n",
    "import datetime\n",
    "import json"
   ]
  },
  {
   "cell_type": "code",
   "execution_count": 125,
   "id": "a1d650f9-e569-4251-88a3-9493516a954b",
   "metadata": {},
   "outputs": [],
   "source": [
    "tx_1 = {\n",
    "   \"addr_from\": \"3J98t1WpEZ73CNmQviecrnyiWrnqRhWNLy\",\n",
    "   \"addr_to\": \"1BvBMSEYstWetqTFn5Au4m4GFg7xJaNVN2\",   \n",
    "   \"amount\": 99.00\n",
    "}"
   ]
  },
  {
   "cell_type": "code",
   "execution_count": 126,
   "id": "de4a1e26-36db-4632-97ec-fdcab0f778ae",
   "metadata": {},
   "outputs": [],
   "source": [
    "class Block():\n",
    "    def __init__(self,\n",
    "                 index:int = 0,\n",
    "                 transactions:list = [],\n",
    "                 timestamp:int = 0,\n",
    "                 cur_hash:str = \"\",\n",
    "                 previous_hash:str = \"\",\n",
    "                 nonce:int = 0):\n",
    "        \n",
    "        self.index:int = index\n",
    "        self.transactions:list = transactions\n",
    "        self.timestamp = timestamp\n",
    "        self.hash:str = cur_hash\n",
    "        self.previous_hash:str = previous_hash\n",
    "        self.nonce:int = nonce\n",
    "            \n",
    "    def compute_hash(self) -> str:\n",
    "        block_string = json.dumps(self.__dict__, sort_keys=True)\n",
    "        return hashlib.sha256(block_string.encode()).hexdigest()"
   ]
  },
  {
   "cell_type": "code",
   "execution_count": 127,
   "id": "e68a0935-e3dc-4fbc-ab21-ae5a66dbe1ae",
   "metadata": {},
   "outputs": [],
   "source": [
    "class Blockchain:     \n",
    "    def __init__(self):\n",
    "        self.unconfirmed_transactions:List[dict] = []\n",
    "        self.chain:List[Block] = []\n",
    "        self.difficulty:int = 2\n",
    "        self.create_genesis_block()\n",
    "        \n",
    "    def get_last_block(self):\n",
    "        return self.chain[-1]\n",
    "        \n",
    "    def create_genesis_block(self):\n",
    "        genesis_block = Block(index=0, transactions=[], timestamp=(), previous_hash=\"\")\n",
    "        genesis_block.hash = genesis_block.compute_hash()\n",
    "        self.chain.append(genesis_block)\n",
    "        \n",
    "        \n",
    "    def proof_of_work(self, Block:Block) -> str:\n",
    "        computed_hash = block.compute_hash()\n",
    "        while not computed_hash.startwith('0' * self.difficulty):\n",
    "            Block.nonce += 1 \n",
    "            computed_hash = block.sompute_hash()\n",
    "        return computed_hash\n",
    "    \n",
    "    def is_valid_proof(self, Block:Block, Block_hash:str) -> bool:\n",
    "        return Block_hash.startswith('0' * self.difficulty) and block_hash == block.compute_hash()\n",
    "    \n",
    "    def add_block(self, Block:Block, proof:str) -> bool:\n",
    "            last_block = self.get_last_block()\n",
    "            last_block.hash\n",
    "            \n",
    "            if last_Block.hash != block.previous_hash:\n",
    "                return False\n",
    "            \n",
    "            if not self.is_valid_proof(block, proof):\n",
    "                return False\n",
    "            \n",
    "            Block.hash = proof\n",
    "            self.chain.append(Block)\n",
    "            \n",
    "            return True\n",
    "        \n",
    "    def add_new_transaction(self, transaction:dict) -> None:\n",
    "        self.unconfirmed_transactions.append(transaction)\n",
    "        \n",
    "        \n",
    "        \n",
    "    def mine(self) -> int:\n",
    "        if len(self.unconfirmed_transactions)>1:\n",
    "            return -1\n",
    "        \n",
    "        last_block = self.get_last_block()\n",
    "        self.unconfirmed_transactions.append(tx_1)\n",
    "        \n",
    "        new_block = block(index=last_block.index+1,\n",
    "                          transactions=self.unconfirmed_transactions,\n",
    "                          timestamp=int(time.time()),\n",
    "                          previous_hash=last_block.hash)\n",
    "        \n",
    "        \n",
    "        proof = self.proof_of_work(new_block)\n",
    "        \n",
    "        if not self.add_block(new_block, proof):\n",
    "            return -1\n",
    "        self.unconfirmed_transactions = []\n",
    "        \n",
    "        return self.get_last_block().index"
   ]
  },
  {
   "cell_type": "code",
   "execution_count": 128,
   "id": "c58d304e-3c26-41f8-877a-839ee4f060b8",
   "metadata": {},
   "outputs": [],
   "source": [
    "b = Block()"
   ]
  },
  {
   "cell_type": "code",
   "execution_count": 129,
   "id": "a6eaa7b6-e7a5-43a5-9ab4-5f891de29af8",
   "metadata": {},
   "outputs": [
    {
     "data": {
      "text/plain": [
       "'0267061eb16c636898bb6afeefc4959a18d5210d0415e315d29f2db21d048782'"
      ]
     },
     "execution_count": 129,
     "metadata": {},
     "output_type": "execute_result"
    }
   ],
   "source": [
    "b.compute_hash()"
   ]
  },
  {
   "cell_type": "code",
   "execution_count": 130,
   "id": "f8e3a829-7a0e-4b9c-b1b2-abe8659de132",
   "metadata": {},
   "outputs": [
    {
     "data": {
      "text/plain": [
       "{'unconfirmed_transactions': [],\n",
       " 'chain': [<__main__.Block at 0x7f77bff3e430>],\n",
       " 'difficulty': 2}"
      ]
     },
     "execution_count": 130,
     "metadata": {},
     "output_type": "execute_result"
    }
   ],
   "source": [
    "Blockchain().__dict__"
   ]
  },
  {
   "cell_type": "code",
   "execution_count": null,
   "id": "a0807964-b99a-449c-a3b9-b1e302419da1",
   "metadata": {},
   "outputs": [],
   "source": []
  },
  {
   "cell_type": "code",
   "execution_count": null,
   "id": "d03804a8-2408-4239-a67c-4269ee4d4559",
   "metadata": {},
   "outputs": [],
   "source": []
  },
  {
   "cell_type": "code",
   "execution_count": null,
   "id": "2a3da345-e77d-4afb-96de-8c55b9fc83ec",
   "metadata": {},
   "outputs": [],
   "source": []
  }
 ],
 "metadata": {
  "kernelspec": {
   "display_name": "Python 3",
   "language": "python",
   "name": "python3"
  },
  "language_info": {
   "codemirror_mode": {
    "name": "ipython",
    "version": 3
   },
   "file_extension": ".py",
   "mimetype": "text/x-python",
   "name": "python",
   "nbconvert_exporter": "python",
   "pygments_lexer": "ipython3",
   "version": "3.8.8"
  }
 },
 "nbformat": 4,
 "nbformat_minor": 5
}
